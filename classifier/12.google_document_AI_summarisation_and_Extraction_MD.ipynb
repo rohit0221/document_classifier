{
 "cells": [
  {
   "cell_type": "code",
   "execution_count": 1,
   "metadata": {},
   "outputs": [
    {
     "data": {
      "text/plain": [
       "True"
      ]
     },
     "execution_count": 1,
     "metadata": {},
     "output_type": "execute_result"
    }
   ],
   "source": [
    "import os\n",
    "from dotenv import load_dotenv\n",
    "load_dotenv()"
   ]
  },
  {
   "cell_type": "code",
   "execution_count": 2,
   "metadata": {},
   "outputs": [],
   "source": [
    "GCS_OUTPUT_PATH = \"gs://doc_parser12345/\"\n",
    "# PROCESSOR_NAME = \"https://us-documentai.googleapis.com/v1/projects/712357922075/locations/us/processors/5d98407fb8df954c:process\"\n",
    "PROCESSOR_NAME = \"projects/712357922075/locations/us/processors/5d98407fb8df954c\"\n",
    "\n",
    "os.environ['GOOGLE_APPLICATION_CREDENTIALS'] = './docextraction-440803-2193a2f4556f.json'\n"
   ]
  },
  {
   "cell_type": "code",
   "execution_count": 3,
   "metadata": {},
   "outputs": [],
   "source": [
    "from langchain_core.document_loaders.blob_loaders import Blob\n",
    "from langchain_google_community import DocAIParser"
   ]
  },
  {
   "cell_type": "code",
   "execution_count": 4,
   "metadata": {},
   "outputs": [],
   "source": [
    "parser = DocAIParser(\n",
    "    location=\"us\", processor_name=PROCESSOR_NAME, gcs_output_path=GCS_OUTPUT_PATH\n",
    ")"
   ]
  },
  {
   "cell_type": "code",
   "execution_count": 5,
   "metadata": {},
   "outputs": [],
   "source": [
    "blob = Blob(\n",
    "    path=\"gs://doc_parser12345/document-001-115484.out.000.pdf\"\n",
    ")"
   ]
  },
  {
   "cell_type": "code",
   "execution_count": 6,
   "metadata": {},
   "outputs": [
    {
     "name": "stdout",
     "output_type": "stream",
     "text": [
      "1\n"
     ]
    }
   ],
   "source": [
    "docs = list(parser.lazy_parse(blob))\n",
    "print(len(docs))"
   ]
  },
  {
   "cell_type": "code",
   "execution_count": 7,
   "metadata": {},
   "outputs": [
    {
     "name": "stdout",
     "output_type": "stream",
     "text": [
      "1\n"
     ]
    }
   ],
   "source": [
    "print(len(docs))"
   ]
  },
  {
   "cell_type": "code",
   "execution_count": 8,
   "metadata": {},
   "outputs": [
    {
     "data": {
      "text/plain": [
       "[Document(metadata={'page': 1, 'source': 'gs://doc_parser12345/document-001-115484.out.000.pdf'}, page_content='SHARP\\nGL1F20\\nGL1F20\\nFeatures\\n1. IrDA1.0 compatible infrared emitting diode\\n(Transmission rate: 2.4 to 115.2kbps)\\n2. Built-in infrared emitting diode circuit\\n3. Recommended use in combination with detector (IS1U20)\\nInfrared Communication\\n(IrDA1.0 Compatible)\\nInfraredEmitting Diode\\n| Outline Dimensions\\nMAX. 0.6\\n5.6\\n(Unit: mm)\\nR 1.4\\nTransparent resin\\nDetector center\\nApplications\\n1. Personal computers\\n2. Portable information terminal equipment\\n3. Printers\\n4. Word processors\\nIrDA Abbreviation of the Infrared Data Association established\\nfor standardization of infrared communication specifications\\n3-0.45\\n1.27\\nAbsolute Maximum Ratings\\nParameter\\nForward current\\n*1 Peak forward current\\nOperating temperature\\nStorage temperature\\n#2\\nSoldering temperature\\nA\\n17.9\\n1.0\\n1.27\\nMIN 0.3\\n(Ta=25°C)\\nSymbol Rating\\nUnit\\nIF\\n50\\nmA\\nTerminal configuration\\n1 Base\\nIFM\\n400\\nmA\\n12:\\nEmitter\\nTopr\\n10 to 70\\n°C\\n③3 Anode\\nIste\\n20 to + 85\\n°C\\nTsol\\n260\\n°C\\n*1 Pulse width 78.1 u s. Duty ratio=3/16\\n*2 For MAX. 3 seconds at the position of 2 mm from the resin edge\\nElectro-optical Characteristics\\nBase\\n0.4\\nهه\\n(Ta=25 °C)\\nParameter\\nSymbol\\nConditions\\nMIN.\\nTYP.\\nMAX.\\nUnit\\nDriving voltage\\nVcc\\n4.75\\n5.25\\nV\\nHigh level input voltage\\nVIII\\n4.5\\nVoc\\nV\\nLow level input voltage\\nVII.\\n0.4\\nV\\nPeak emission wavelength\\nAp\\nIF = 20mA\\n850\\n870\\n900\\nnm\\nRadiant intensity\\nJE\\nVcc 5V,RL= 7.592\\n40\\n350\\nmW/sr\\nLight pulse width\\ntw\\nVin = 4.5V\\n1.41\\n1.6\\n2.71\\nμε\\nLight rise time\\ntr\\ntwin 1.63 us,Duty ratio : 3/16\\n0.23\\n0.6\\nμε\\nLight fall time\\n<=15°,*3\\nlf\\n0.17\\n0.6\\nμε\\nInput current\\nIIII\\nVin = 4.5V\\n1.0\\n3.0\\nmA\\nHalf intensity wavelength\\nΔλ\\nIr = 20mA\\n40\\nnm\\nHalf intensity angle\\nΔΕ\\nIF = 20mA\\n-\\n± 20\\n*3 Direction of mechanical axis of the lens portion of the element: =0°\\nIn the absence of confirmation by device specification sheets, SHARP takes no responsibility for any defects that occur in equipment using any of SHARP\\'s devices, shown in catalogs,\\ndata books, etc. Contact SHARP in order to obtain the latest version of the device specification sheets before using any SHARP\\'s device.\"\\n')]"
      ]
     },
     "execution_count": 8,
     "metadata": {},
     "output_type": "execute_result"
    }
   ],
   "source": [
    "docs"
   ]
  },
  {
   "cell_type": "code",
   "execution_count": 9,
   "metadata": {},
   "outputs": [
    {
     "data": {
      "text/plain": [
       "langchain_core.documents.base.Document"
      ]
     },
     "execution_count": 9,
     "metadata": {},
     "output_type": "execute_result"
    }
   ],
   "source": [
    "type(docs[0])"
   ]
  },
  {
   "cell_type": "code",
   "execution_count": 10,
   "metadata": {},
   "outputs": [
    {
     "data": {
      "text/plain": [
       "'SHARP GL1F20 GL1F20 Features 1. IrDA1.0 compatible infrared emitting diode (Transmission rate: 2.4 to 115.2kbps) 2. Built-in infrared emitting diode circuit 3. Recommended use in combination with detector (IS1U20) Infrared Communication (IrDA1.0 Compatible) InfraredEmitting Diode | Outline Dimensions MAX. 0.6 5.6 (Unit: mm) R 1.4 Transparent resin Detector center Applications 1. Personal computers 2. Portable information terminal equipment 3. Printers 4. Word processors IrDA Abbreviation of the Infrared Data Association established for standardization of infrared communication specifications 3-0.45 1.27 Absolute Maximum Ratings Parameter Forward current *1 Peak forward current Operating temperature Storage temperature #2 Soldering temperature A 17.9 1.0 1.27 MIN 0.3 (Ta=25°C) Symbol Rating Unit IF 50 mA Terminal configuration 1 Base IFM 400 mA 12: Emitter Topr 10 to 70 °C ③3 Anode Iste 20 to + 85 °C Tsol 260 °C *1 Pulse width 78.1 u s. Duty ratio=3/16 *2 For MAX. 3 seconds at the position of 2 mm from the resin edge Electro-optical Characteristics Base 0.4 هه (Ta=25 °C) Parameter Symbol Conditions MIN. TYP. MAX. Unit Driving voltage Vcc 4.75 5.25 V High level input voltage VIII 4.5 Voc V Low level input voltage VII. 0.4 V Peak emission wavelength Ap IF = 20mA 850 870 900 nm Radiant intensity JE Vcc 5V,RL= 7.592 40 350 mW/sr Light pulse width tw Vin = 4.5V 1.41 1.6 2.71 με Light rise time tr twin 1.63 us,Duty ratio : 3/16 0.23 0.6 με Light fall time <=15°,*3 lf 0.17 0.6 με Input current IIII Vin = 4.5V 1.0 3.0 mA Half intensity wavelength Δλ Ir = 20mA 40 nm Half intensity angle ΔΕ IF = 20mA - ± 20 *3 Direction of mechanical axis of the lens portion of the element: =0° In the absence of confirmation by device specification sheets, SHARP takes no responsibility for any defects that occur in equipment using any of SHARP\\'s devices, shown in catalogs, data books, etc. Contact SHARP in order to obtain the latest version of the device specification sheets before using any SHARP\\'s device.\" '"
      ]
     },
     "execution_count": 10,
     "metadata": {},
     "output_type": "execute_result"
    }
   ],
   "source": [
    "# Assuming 'docs' is a list of Document objects with 'page_content' as a text attribute\n",
    "\n",
    "# Extract and clean the text from page_content\n",
    "clean_content = docs[0].page_content.replace('\\n', ' ')\n",
    "\n",
    "# Store the cleaned content in a variable\n",
    "clean_content\n"
   ]
  },
  {
   "cell_type": "markdown",
   "metadata": {},
   "source": [
    "# Stuff: summarize in a single LLM call"
   ]
  },
  {
   "cell_type": "code",
   "execution_count": 11,
   "metadata": {},
   "outputs": [
    {
     "name": "stderr",
     "output_type": "stream",
     "text": [
      "c:\\Code\\Github\\document_classifier\\classifier\\venv\\Lib\\site-packages\\tqdm\\auto.py:21: TqdmWarning: IProgress not found. Please update jupyter and ipywidgets. See https://ipywidgets.readthedocs.io/en/stable/user_install.html\n",
      "  from .autonotebook import tqdm as notebook_tqdm\n"
     ]
    }
   ],
   "source": [
    "from langchain_google_genai import ChatGoogleGenerativeAI\n",
    "\n",
    "llm = ChatGoogleGenerativeAI(model=\"gemini-1.5-flash\")\n"
   ]
  },
  {
   "cell_type": "code",
   "execution_count": 12,
   "metadata": {},
   "outputs": [
    {
     "name": "stdout",
     "output_type": "stream",
     "text": [
      "This document is a **datasheet** for the **SHARP GL1F20 infrared emitting diode**. It provides technical specifications and information about the device, including:\n",
      "\n",
      "* **Features:**  Describes the key capabilities of the diode, such as its compatibility with IrDA 1.0 standard, transmission rate, and built-in circuit.\n",
      "* **Outline Dimensions:**  Illustrates the physical dimensions of the diode.\n",
      "* **Applications:**  Lists typical applications for the diode, including personal computers, portable equipment, printers, and word processors.\n",
      "* **Absolute Maximum Ratings:** Specifies the maximum allowable values for parameters such as forward current, operating temperature, and storage temperature.\n",
      "* **Electro-optical Characteristics:**  Provides detailed electrical and optical specifications, including driving voltage, peak emission wavelength, radiant intensity, light pulse width, and input current.\n",
      "\n",
      "**Overall, the document aims to provide engineers and designers with comprehensive information needed to understand and use the SHARP GL1F20 infrared emitting diode in their projects.** \n",
      "\n"
     ]
    }
   ],
   "source": [
    "from langchain.chains.combine_documents import create_stuff_documents_chain\n",
    "from langchain.chains.llm import LLMChain\n",
    "from langchain_core.prompts import ChatPromptTemplate\n",
    "\n",
    "# Define prompt\n",
    "prompt = ChatPromptTemplate.from_messages(\n",
    "    [(\"user\", \"Tell me what this document is all about?, categorise it as a type of document:\\\\n\\\\n{context}\")]\n",
    ")\n",
    "\n",
    "\n",
    "# Instantiate chain\n",
    "chain = create_stuff_documents_chain(llm, prompt)\n",
    "\n",
    "# Invoke chain\n",
    "result = chain.invoke({\"context\": docs})\n",
    "print(result)"
   ]
  },
  {
   "cell_type": "code",
   "execution_count": 13,
   "metadata": {},
   "outputs": [
    {
     "name": "stdout",
     "output_type": "stream",
     "text": [
      "## SHARP GL1F20 Infrared Emitting Diode\n",
      "\n",
      "### Features\n",
      "\n",
      "1. IrDA1.0 compatible infrared emitting diode (Transmission rate: 2.4 to 115.2kbps)\n",
      "2. Built-in infrared emitting diode circuit\n",
      "3. Recommended use in combination with detector (IS1U20)\n",
      "\n",
      "### Infrared Communication (IrDA1.0 Compatible)\n",
      "\n",
      "#### Infrared Emitting Diode\n",
      "\n",
      "| Outline Dimensions | |\n",
      "|---|---|\n",
      "| **MAX. 0.6** | (Unit: mm) |\n",
      "| **5.6** | |\n",
      "| **R 1.4** | |\n",
      "| **Transparent resin** | |\n",
      "| **Detector center** | |\n",
      "| **3-0.45** | |\n",
      "| **1.27** | |\n",
      "| **MIN 0.3** | |\n",
      "| **17.9** | |\n",
      "| **1.0** | |\n",
      "| **1.27** | |\n",
      "\n",
      "### Applications\n",
      "\n",
      "1. Personal computers\n",
      "2. Portable information terminal equipment\n",
      "3. Printers\n",
      "4. Word processors\n",
      "\n",
      "### IrDA Abbreviation\n",
      "\n",
      "Infrared Data Association established for standardization of infrared communication specifications.\n",
      "\n",
      "### Absolute Maximum Ratings\n",
      "\n",
      "| Parameter | Symbol | Rating | Unit |\n",
      "|---|---|---|---|\n",
      "| Forward current | IF | 50 | mA |\n",
      "| Peak forward current | IFM | 400 | mA |\n",
      "| Operating temperature | Topr | 10 to 70 | °C |\n",
      "| Storage temperature | Iste | -20 to + 85 | °C |\n",
      "| Soldering temperature | Tsol | 260 | °C |\n",
      "\n",
      "*1 Pulse width 78.1 u s. Duty ratio=3/16\n",
      "*2 For MAX. 3 seconds at the position of 2 mm from the resin edge\n",
      "\n",
      "### Electro-optical Characteristics (Ta=25 °C)\n",
      "\n",
      "| Parameter | Symbol | Conditions | MIN. | TYP. | MAX. | Unit |\n",
      "|---|---|---|---|---|---|---|\n",
      "| Driving voltage | Vcc |  | 4.75 | 5.25 | V |\n",
      "| High level input voltage | VIII |  | 4.5 | Voc | V |\n",
      "| Low level input voltage | VII. |  | 0.4 | V |\n",
      "| Peak emission wavelength | Ap | IF = 20mA | 850 | 870 | 900 | nm |\n",
      "| Radiant intensity | JE | Vcc 5V,RL= 7.592 | 40 | 350 | mW/sr |\n",
      "| Light pulse width | tw | Vin = 4.5V | 1.41 | 1.6 | 2.71 | μs |\n",
      "| Light rise time | tr | twin 1.63 us,Duty ratio : 3/16 | 0.23 | 0.6 | μs |\n",
      "| Light fall time | lf | <=15°,*3 | 0.17 | 0.6 | μs |\n",
      "| Input current | IIII | Vin = 4.5V | 1.0 | 3.0 | mA |\n",
      "| Half intensity wavelength | Δλ | Ir = 20mA | 40 | nm |\n",
      "| Half intensity angle | ΔΕ | IF = 20mA | - | ± 20 |  |\n",
      "\n",
      "*3 Direction of mechanical axis of the lens portion of the element: =0°\n",
      "\n",
      "**Disclaimer:** In the absence of confirmation by device specification sheets, SHARP takes no responsibility for any defects that occur in equipment using any of SHARP's devices, shown in catalogs, data books, etc. Contact SHARP in order to obtain the latest version of the device specification sheets before using any SHARP's device. \n",
      "\n"
     ]
    }
   ],
   "source": [
    "from langchain.chains.combine_documents import create_stuff_documents_chain\n",
    "from langchain.chains.llm import LLMChain\n",
    "from langchain_core.prompts import ChatPromptTemplate\n",
    "\n",
    "# Define prompt\n",
    "prompt = ChatPromptTemplate.from_messages(\n",
    "    [(\"user\", \"Extract all tables from it and give output as markdown:\\\\n\\\\n{context}\")]\n",
    ")\n",
    "\n",
    "\n",
    "# Instantiate chain\n",
    "chain = create_stuff_documents_chain(llm, prompt)\n",
    "\n",
    "# Invoke chain\n",
    "result = chain.invoke({\"context\": docs})\n",
    "print(result)"
   ]
  },
  {
   "cell_type": "markdown",
   "metadata": {},
   "source": [
    "## SHARP GL1F20 Infrared Emitting Diode\n",
    "\n",
    "### Features\n",
    "\n",
    "1. IrDA1.0 compatible infrared emitting diode (Transmission rate: 2.4 to 115.2kbps)\n",
    "2. Built-in infrared emitting diode circuit\n",
    "3. Recommended use in combination with detector (IS1U20)\n",
    "\n",
    "### Infrared Communication (IrDA1.0 Compatible)\n",
    "\n",
    "#### Infrared Emitting Diode\n",
    "\n",
    "| Outline Dimensions (Unit: mm) | | |\n",
    "|---|---|---|\n",
    "| MAX. 0.6 | R 1.4 | 5.6 |\n",
    "| 3-0.45 | 1.27 | 1.0 |\n",
    "| MIN 0.3 | 1.27 | 17.9 |\n",
    "| | Transparent resin |  |\n",
    "| | Detector center |  |\n",
    "\n",
    "### Applications\n",
    "\n",
    "1. Personal computers\n",
    "2. Portable information terminal equipment\n",
    "3. Printers\n",
    "...\n",
    "*3 Direction of mechanical axis of the lens portion of the element: =0°\n",
    "\n",
    "**Note:** In the absence of confirmation by device specification sheets, SHARP takes no responsibility for any defects that occur in equipment using any of SHARP's devices, shown in catalogs, data books, etc. Contact SHARP in order to obtain the latest version of the device specification sheets before using any SHARP's device. "
   ]
  },
  {
   "cell_type": "markdown",
   "metadata": {},
   "source": [
    "## SHARP GL1F20 Infrared Emitting Diode\n",
    "\n",
    "### Features\n",
    "\n",
    "1. IrDA1.0 compatible infrared emitting diode (Transmission rate: 2.4 to 115.2kbps)\n",
    "2. Built-in infrared emitting diode circuit\n",
    "3. Recommended use in combination with detector (IS1U20)\n",
    "\n",
    "### Infrared Communication (IrDA1.0 Compatible)\n",
    "\n",
    "#### Infrared Emitting Diode\n",
    "\n",
    "| Outline Dimensions | |\n",
    "|---|---|\n",
    "| **MAX. 0.6** | (Unit: mm) |\n",
    "| **5.6** | |\n",
    "| **R 1.4** | |\n",
    "| **Transparent resin** | |\n",
    "| **Detector center** | |\n",
    "| **3-0.45** | |\n",
    "| **1.27** | |\n",
    "| **MIN 0.3** | |\n",
    "| **17.9** | |\n",
    "| **1.0** | |\n",
    "| **1.27** | |\n",
    "\n",
    "### Applications\n",
    "\n",
    "1. Personal computers\n",
    "2. Portable information terminal equipment\n",
    "3. Printers\n",
    "4. Word processors\n",
    "\n",
    "### IrDA Abbreviation\n",
    "\n",
    "Infrared Data Association established for standardization of infrared communication specifications.\n",
    "\n",
    "### Absolute Maximum Ratings\n",
    "\n",
    "| Parameter | Symbol | Rating | Unit |\n",
    "|---|---|---|---|\n",
    "| Forward current | IF | 50 | mA |\n",
    "| Peak forward current | IFM | 400 | mA |\n",
    "| Operating temperature | Topr | 10 to 70 | °C |\n",
    "| Storage temperature | Iste | -20 to + 85 | °C |\n",
    "| Soldering temperature | Tsol | 260 | °C |\n",
    "\n",
    "*1 Pulse width 78.1 u s. Duty ratio=3/16\n",
    "*2 For MAX. 3 seconds at the position of 2 mm from the resin edge\n",
    "\n",
    "### Electro-optical Characteristics (Ta=25 °C)\n",
    "\n",
    "| Parameter | Symbol | Conditions | MIN. | TYP. | MAX. | Unit |\n",
    "|---|---|---|---|---|---|---|\n",
    "| Driving voltage | Vcc |  | 4.75 | 5.25 | V |\n",
    "| High level input voltage | VIII |  | 4.5 | Voc | V |\n",
    "| Low level input voltage | VII. |  | 0.4 | V |\n",
    "| Peak emission wavelength | Ap | IF = 20mA | 850 | 870 | 900 | nm |\n",
    "| Radiant intensity | JE | Vcc 5V,RL= 7.592 | 40 | 350 | mW/sr |\n",
    "| Light pulse width | tw | Vin = 4.5V | 1.41 | 1.6 | 2.71 | μs |\n",
    "| Light rise time | tr | twin 1.63 us,Duty ratio : 3/16 | 0.23 | 0.6 | μs |\n",
    "| Light fall time | lf | <=15°,*3 | 0.17 | 0.6 | μs |\n",
    "| Input current | IIII | Vin = 4.5V | 1.0 | 3.0 | mA |\n",
    "| Half intensity wavelength | Δλ | Ir = 20mA | 40 | nm |\n",
    "| Half intensity angle | ΔΕ | IF = 20mA | - | ± 20 |  |\n",
    "\n",
    "*3 Direction of mechanical axis of the lens portion of the element: =0°\n",
    "\n",
    "**Disclaimer:** In the absence of confirmation by device specification sheets, SHARP takes no responsibility for any defects that occur in equipment using any of SHARP's devices, shown in catalogs, data books, etc. Contact SHARP in order to obtain the latest version of the device specification sheets before using any SHARP's device. "
   ]
  },
  {
   "cell_type": "code",
   "execution_count": null,
   "metadata": {},
   "outputs": [],
   "source": []
  },
  {
   "cell_type": "code",
   "execution_count": null,
   "metadata": {},
   "outputs": [],
   "source": []
  },
  {
   "cell_type": "code",
   "execution_count": null,
   "metadata": {},
   "outputs": [],
   "source": []
  },
  {
   "cell_type": "code",
   "execution_count": null,
   "metadata": {},
   "outputs": [],
   "source": []
  },
  {
   "cell_type": "code",
   "execution_count": null,
   "metadata": {},
   "outputs": [],
   "source": []
  },
  {
   "cell_type": "code",
   "execution_count": null,
   "metadata": {},
   "outputs": [],
   "source": []
  }
 ],
 "metadata": {
  "kernelspec": {
   "display_name": "Python 3",
   "language": "python",
   "name": "python3"
  },
  "language_info": {
   "codemirror_mode": {
    "name": "ipython",
    "version": 3
   },
   "file_extension": ".py",
   "mimetype": "text/x-python",
   "name": "python",
   "nbconvert_exporter": "python",
   "pygments_lexer": "ipython3",
   "version": "3.11.0"
  }
 },
 "nbformat": 4,
 "nbformat_minor": 2
}
