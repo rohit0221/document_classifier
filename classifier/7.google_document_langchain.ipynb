{
 "cells": [
  {
   "cell_type": "code",
   "execution_count": 1,
   "metadata": {},
   "outputs": [
    {
     "data": {
      "text/plain": [
       "True"
      ]
     },
     "execution_count": 1,
     "metadata": {},
     "output_type": "execute_result"
    }
   ],
   "source": [
    "import os\n",
    "from dotenv import load_dotenv\n",
    "load_dotenv()"
   ]
  },
  {
   "cell_type": "code",
   "execution_count": 2,
   "metadata": {},
   "outputs": [],
   "source": [
    "GCS_OUTPUT_PATH = \"gs://doc_parser12345/\"\n",
    "# PROCESSOR_NAME = \"https://us-documentai.googleapis.com/v1/projects/712357922075/locations/us/processors/5d98407fb8df954c:process\"\n",
    "PROCESSOR_NAME = \"projects/712357922075/locations/us/processors/5d98407fb8df954c\"\n",
    "\n",
    "os.environ['GOOGLE_APPLICATION_CREDENTIALS'] = './docextraction-440803-2193a2f4556f.json'\n"
   ]
  },
  {
   "cell_type": "code",
   "execution_count": 3,
   "metadata": {},
   "outputs": [],
   "source": [
    "from langchain_core.document_loaders.blob_loaders import Blob\n",
    "from langchain_google_community import DocAIParser"
   ]
  },
  {
   "cell_type": "code",
   "execution_count": 4,
   "metadata": {},
   "outputs": [],
   "source": [
    "parser = DocAIParser(\n",
    "    location=\"us\", processor_name=PROCESSOR_NAME, gcs_output_path=GCS_OUTPUT_PATH\n",
    ")"
   ]
  },
  {
   "cell_type": "code",
   "execution_count": 5,
   "metadata": {},
   "outputs": [],
   "source": [
    "blob = Blob(\n",
    "    path=\"gs://doc_parser12345/document-001-115484.out.000.pdf\"\n",
    ")"
   ]
  },
  {
   "cell_type": "code",
   "execution_count": 6,
   "metadata": {},
   "outputs": [
    {
     "name": "stdout",
     "output_type": "stream",
     "text": [
      "1\n"
     ]
    }
   ],
   "source": [
    "docs = list(parser.lazy_parse(blob))\n",
    "print(len(docs))"
   ]
  },
  {
   "cell_type": "code",
   "execution_count": 7,
   "metadata": {},
   "outputs": [
    {
     "name": "stdout",
     "output_type": "stream",
     "text": [
      "1\n"
     ]
    }
   ],
   "source": [
    "print(len(docs))"
   ]
  },
  {
   "cell_type": "code",
   "execution_count": 8,
   "metadata": {},
   "outputs": [
    {
     "data": {
      "text/plain": [
       "[Document(metadata={'page': 1, 'source': 'gs://doc_parser12345/document-001-115484.out.000.pdf'}, page_content='SHARP\\nGL1F20\\nGL1F20\\nFeatures\\n1. IrDA1.0 compatible infrared emitting diode\\n(Transmission rate: 2.4 to 115.2kbps)\\n2. Built-in infrared emitting diode circuit\\n3. Recommended use in combination with detector (IS1U20)\\nInfrared Communication\\n(IrDA1.0 Compatible)\\nInfraredEmitting Diode\\n| Outline Dimensions\\nMAX. 0.6\\n5.6\\n(Unit: mm)\\nR 1.4\\nTransparent resin\\nDetector center\\nApplications\\n1. Personal computers\\n2. Portable information terminal equipment\\n3. Printers\\n4. Word processors\\nIrDA Abbreviation of the Infrared Data Association established\\nfor standardization of infrared communication specifications\\n3-0.45\\n1.27\\nAbsolute Maximum Ratings\\nParameter\\nForward current\\n*1 Peak forward current\\nOperating temperature\\nStorage temperature\\n#2\\nSoldering temperature\\nA\\n17.9\\n1.0\\n1.27\\nMIN 0.3\\n(Ta=25°C)\\nSymbol Rating\\nUnit\\nIF\\n50\\nmA\\nTerminal configuration\\n1 Base\\nIFM\\n400\\nmA\\n12:\\nEmitter\\nTopr\\n10 to 70\\n°C\\n③3 Anode\\nIste\\n20 to + 85\\n°C\\nTsol\\n260\\n°C\\n*1 Pulse width 78.1 u s. Duty ratio=3/16\\n*2 For MAX. 3 seconds at the position of 2 mm from the resin edge\\nElectro-optical Characteristics\\nBase\\n0.4\\nهه\\n(Ta=25 °C)\\nParameter\\nSymbol\\nConditions\\nMIN.\\nTYP.\\nMAX.\\nUnit\\nDriving voltage\\nVcc\\n4.75\\n5.25\\nV\\nHigh level input voltage\\nVIII\\n4.5\\nVoc\\nV\\nLow level input voltage\\nVII.\\n0.4\\nV\\nPeak emission wavelength\\nAp\\nIF = 20mA\\n850\\n870\\n900\\nnm\\nRadiant intensity\\nJE\\nVcc 5V,RL= 7.592\\n40\\n350\\nmW/sr\\nLight pulse width\\ntw\\nVin = 4.5V\\n1.41\\n1.6\\n2.71\\nμε\\nLight rise time\\ntr\\ntwin 1.63 us,Duty ratio : 3/16\\n0.23\\n0.6\\nμε\\nLight fall time\\n<=15°,*3\\nlf\\n0.17\\n0.6\\nμε\\nInput current\\nIIII\\nVin = 4.5V\\n1.0\\n3.0\\nmA\\nHalf intensity wavelength\\nΔλ\\nIr = 20mA\\n40\\nnm\\nHalf intensity angle\\nΔΕ\\nIF = 20mA\\n-\\n± 20\\n*3 Direction of mechanical axis of the lens portion of the element: =0°\\nIn the absence of confirmation by device specification sheets, SHARP takes no responsibility for any defects that occur in equipment using any of SHARP\\'s devices, shown in catalogs,\\ndata books, etc. Contact SHARP in order to obtain the latest version of the device specification sheets before using any SHARP\\'s device.\"\\n')]"
      ]
     },
     "execution_count": 8,
     "metadata": {},
     "output_type": "execute_result"
    }
   ],
   "source": [
    "docs"
   ]
  },
  {
   "cell_type": "code",
   "execution_count": 9,
   "metadata": {},
   "outputs": [
    {
     "data": {
      "text/plain": [
       "langchain_core.documents.base.Document"
      ]
     },
     "execution_count": 9,
     "metadata": {},
     "output_type": "execute_result"
    }
   ],
   "source": [
    "type(docs[0])"
   ]
  },
  {
   "cell_type": "code",
   "execution_count": 10,
   "metadata": {},
   "outputs": [
    {
     "data": {
      "text/plain": [
       "'SHARP GL1F20 GL1F20 Features 1. IrDA1.0 compatible infrared emitting diode (Transmission rate: 2.4 to 115.2kbps) 2. Built-in infrared emitting diode circuit 3. Recommended use in combination with detector (IS1U20) Infrared Communication (IrDA1.0 Compatible) InfraredEmitting Diode | Outline Dimensions MAX. 0.6 5.6 (Unit: mm) R 1.4 Transparent resin Detector center Applications 1. Personal computers 2. Portable information terminal equipment 3. Printers 4. Word processors IrDA Abbreviation of the Infrared Data Association established for standardization of infrared communication specifications 3-0.45 1.27 Absolute Maximum Ratings Parameter Forward current *1 Peak forward current Operating temperature Storage temperature #2 Soldering temperature A 17.9 1.0 1.27 MIN 0.3 (Ta=25°C) Symbol Rating Unit IF 50 mA Terminal configuration 1 Base IFM 400 mA 12: Emitter Topr 10 to 70 °C ③3 Anode Iste 20 to + 85 °C Tsol 260 °C *1 Pulse width 78.1 u s. Duty ratio=3/16 *2 For MAX. 3 seconds at the position of 2 mm from the resin edge Electro-optical Characteristics Base 0.4 هه (Ta=25 °C) Parameter Symbol Conditions MIN. TYP. MAX. Unit Driving voltage Vcc 4.75 5.25 V High level input voltage VIII 4.5 Voc V Low level input voltage VII. 0.4 V Peak emission wavelength Ap IF = 20mA 850 870 900 nm Radiant intensity JE Vcc 5V,RL= 7.592 40 350 mW/sr Light pulse width tw Vin = 4.5V 1.41 1.6 2.71 με Light rise time tr twin 1.63 us,Duty ratio : 3/16 0.23 0.6 με Light fall time <=15°,*3 lf 0.17 0.6 με Input current IIII Vin = 4.5V 1.0 3.0 mA Half intensity wavelength Δλ Ir = 20mA 40 nm Half intensity angle ΔΕ IF = 20mA - ± 20 *3 Direction of mechanical axis of the lens portion of the element: =0° In the absence of confirmation by device specification sheets, SHARP takes no responsibility for any defects that occur in equipment using any of SHARP\\'s devices, shown in catalogs, data books, etc. Contact SHARP in order to obtain the latest version of the device specification sheets before using any SHARP\\'s device.\" '"
      ]
     },
     "execution_count": 10,
     "metadata": {},
     "output_type": "execute_result"
    }
   ],
   "source": [
    "# Assuming 'docs' is a list of Document objects with 'page_content' as a text attribute\n",
    "\n",
    "# Extract and clean the text from page_content\n",
    "clean_content = docs[0].page_content.replace('\\n', ' ')\n",
    "\n",
    "# Store the cleaned content in a variable\n",
    "clean_content\n"
   ]
  },
  {
   "cell_type": "code",
   "execution_count": null,
   "metadata": {},
   "outputs": [],
   "source": []
  },
  {
   "cell_type": "code",
   "execution_count": null,
   "metadata": {},
   "outputs": [],
   "source": []
  },
  {
   "cell_type": "code",
   "execution_count": null,
   "metadata": {},
   "outputs": [],
   "source": []
  },
  {
   "cell_type": "code",
   "execution_count": null,
   "metadata": {},
   "outputs": [],
   "source": []
  },
  {
   "cell_type": "code",
   "execution_count": null,
   "metadata": {},
   "outputs": [],
   "source": []
  },
  {
   "cell_type": "code",
   "execution_count": null,
   "metadata": {},
   "outputs": [],
   "source": []
  },
  {
   "cell_type": "code",
   "execution_count": null,
   "metadata": {},
   "outputs": [],
   "source": []
  },
  {
   "cell_type": "code",
   "execution_count": null,
   "metadata": {},
   "outputs": [],
   "source": []
  },
  {
   "cell_type": "code",
   "execution_count": null,
   "metadata": {},
   "outputs": [],
   "source": []
  },
  {
   "cell_type": "code",
   "execution_count": null,
   "metadata": {},
   "outputs": [],
   "source": []
  },
  {
   "cell_type": "code",
   "execution_count": null,
   "metadata": {},
   "outputs": [],
   "source": []
  },
  {
   "cell_type": "code",
   "execution_count": null,
   "metadata": {},
   "outputs": [],
   "source": []
  }
 ],
 "metadata": {
  "kernelspec": {
   "display_name": "Python 3",
   "language": "python",
   "name": "python3"
  },
  "language_info": {
   "codemirror_mode": {
    "name": "ipython",
    "version": 3
   },
   "file_extension": ".py",
   "mimetype": "text/x-python",
   "name": "python",
   "nbconvert_exporter": "python",
   "pygments_lexer": "ipython3",
   "version": "3.11.0"
  }
 },
 "nbformat": 4,
 "nbformat_minor": 2
}
