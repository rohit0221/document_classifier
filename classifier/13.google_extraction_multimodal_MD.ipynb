{
 "cells": [
  {
   "cell_type": "code",
   "execution_count": 1,
   "metadata": {},
   "outputs": [
    {
     "data": {
      "text/plain": [
       "True"
      ]
     },
     "execution_count": 1,
     "metadata": {},
     "output_type": "execute_result"
    }
   ],
   "source": [
    "import os\n",
    "from dotenv import load_dotenv\n",
    "load_dotenv()"
   ]
  },
  {
   "cell_type": "code",
   "execution_count": 2,
   "metadata": {},
   "outputs": [],
   "source": [
    "import base64\n",
    "def load_image(inputs: dict) -> dict:\n",
    "    \"\"\"Load image from file and encode it as base64.\"\"\"\n",
    "    image_path = inputs[\"./ghega-dataset/datasheets/sharp-led-1/document-001-115484.out.000.png\"]\n",
    "  \n",
    "    def encode_image(image_path):\n",
    "        with open(image_path, \"rb\") as image_file:\n",
    "            return base64.b64encode(image_file.read()).decode('utf-8')\n",
    "    image_base64 = encode_image(image_path)\n",
    "    return {\"image\": image_base64}"
   ]
  },
  {
   "cell_type": "code",
   "execution_count": 3,
   "metadata": {},
   "outputs": [],
   "source": [
    "def encode_image(image_path):\n",
    "    with open(image_path, \"rb\") as image_file:\n",
    "        return base64.b64encode(image_file.read()).decode('utf-8')"
   ]
  },
  {
   "cell_type": "code",
   "execution_count": 4,
   "metadata": {},
   "outputs": [],
   "source": [
    "image_path = \"../ghega-dataset/datasheets/sharp-led-1/document-001-115484.out.000.png\""
   ]
  },
  {
   "cell_type": "code",
   "execution_count": 5,
   "metadata": {},
   "outputs": [],
   "source": [
    "base64_image = encode_image(image_path)"
   ]
  },
  {
   "cell_type": "code",
   "execution_count": null,
   "metadata": {},
   "outputs": [],
   "source": []
  },
  {
   "cell_type": "code",
   "execution_count": 6,
   "metadata": {},
   "outputs": [],
   "source": [
    "from langchain_core.messages import SystemMessage\n",
    "\n",
    "system_message = SystemMessage(\n",
    "    content=[\n",
    "        {\n",
    "            \"type\": \"text\", \n",
    "            \"text\": \"You are a helpful assistant who is exceptionally good in extracting data from given image. \\\n",
    "                Extract each bit of data and structure the output in a markdown format\\\n",
    "                     Take special care about tables and prooduce clear tables in the output.\"},\n",
    "    ],\n",
    ")\n",
    "# response = model.invoke([message])\n",
    "# print(response.content)"
   ]
  },
  {
   "cell_type": "code",
   "execution_count": 7,
   "metadata": {},
   "outputs": [],
   "source": [
    "from langchain_core.messages import HumanMessage\n",
    "\n",
    "human_message = HumanMessage(\n",
    "    content=[\n",
    "        {\n",
    "            \"type\": \"text\", \n",
    "            \"text\": \"You are a helpful assistant who is exceptionally good in extracting data from given image. \\\n",
    "                Extract each bit of data and structure the output in a markdown format\\\n",
    "                     Take special care about tables and produce clear tables in the output.\"},\n",
    "        {\n",
    "            \"type\": \"image_url\",\n",
    "            \"image_url\": {\"url\": f\"data:image/jpeg;base64,{base64_image}\"},\n",
    "        },\n",
    "    ],\n",
    ")\n",
    "# response = model.invoke([message])\n",
    "# print(response.content)"
   ]
  },
  {
   "cell_type": "code",
   "execution_count": 8,
   "metadata": {},
   "outputs": [
    {
     "name": "stderr",
     "output_type": "stream",
     "text": [
      "c:\\Code\\Github\\document_classifier\\classifier\\venv\\Lib\\site-packages\\tqdm\\auto.py:21: TqdmWarning: IProgress not found. Please update jupyter and ipywidgets. See https://ipywidgets.readthedocs.io/en/stable/user_install.html\n",
      "  from .autonotebook import tqdm as notebook_tqdm\n"
     ]
    }
   ],
   "source": [
    "from langchain_google_genai import ChatGoogleGenerativeAI\n",
    "\n",
    "model = ChatGoogleGenerativeAI(model=\"gemini-1.5-flash\")\n"
   ]
  },
  {
   "cell_type": "code",
   "execution_count": 9,
   "metadata": {},
   "outputs": [],
   "source": [
    "response = model.invoke([human_message])\n"
   ]
  },
  {
   "cell_type": "code",
   "execution_count": 10,
   "metadata": {},
   "outputs": [
    {
     "data": {
      "text/plain": [
       "AIMessage(content='# SHARP GL1F20 Datasheet\\n\\n## Features\\n\\n1. IrDA1.0 compatible infrared emitting diode (Transmission rate : 24 to 115.2kbps)\\n2. Built-in infrared emitting diode circuit\\n3. Recommended use in combination with detector (**IS1U20**)\\n\\n## Applications\\n\\n1. Personal computers\\n2. Portable information terminal equipment\\n3. Printers\\n4. Word processors\\n\\nIrDA : Abbreviation of the Infrared Data Association established for standardization of infrared communication specifications\\n\\n## Absolute Maximum Ratings (Ta=25°C)\\n\\n| Parameter | Symbol | Rating | Unit |\\n|---|---|---|---|\\n| Forward current | IF | 50 | mA |\\n| *1 Peak forward current | IFM | 400 | mA |\\n| Operating temperature | Topr | -10 to +70 | °C |\\n| Storage temperature | Tstg | -20 to +85 | °C |\\n| *2 Soldering temperature | Tsol | 260 | °C |\\n\\n*1 Pulse width 78.1 µs, Duty ratio=3/16\\n*2 For MAX: 3 seconds at the position of 2 mm from the resin edge\\n\\n## Electro-optical Characteristics (Ta=25°C)\\n\\n| Parameter | Symbol | Conditions | MIN. | TYP. | MAX. | Unit |\\n|---|---|---|---|---|---|---|\\n| Driving voltage | Vcc | - | 4.75 | - | 5.25 | V |\\n| High level input voltage | VIH | - | 4.5 | - | Vcc | V |\\n| Low level input voltage | VIL | - | - | - | 0.4 | V |\\n| Peak emission wavelength | λP | IF = 20mA | 850 | 870 | 900 | nm |\\n| Radiant intensity | Ir | Vcc = 5V, RI = 7.5Ω | 40 | - | 350 | mW/sr |\\n| Light pulse width | tw | tWin = 1.63 µs, Duty ratio : 3/16 | 1.41 | 1.6 | 2.71 | µs |\\n| Light rise time | tr | φ <= 15°, *3 | - | 0.23 | 0.6 | µs |\\n| Light fall time | tf | - | - | 0.17 | 0.6 | µs |\\n| Input current | II | VIn = 4.5V | 1.0 | - | 3.0 | mA |\\n| Half intensity wavelength | Δλ | IF = 20mA | - | 40 | - | nm |\\n| Half intensity angle | Δθ | IF = 20mA | - | ± 20 | - | ° |\\n\\n*3 Direction of mechanical axis of the lens portion of the element : φ=0°\\n\\n## Outline Dimensions (Unit : mm)\\n\\n| Dimension | Value |\\n|---|---|\\n| MAX. | 0.6 |\\n| R | 1.4 |\\n| Detector center | 4.0 |\\n| 1 | 1.27 |\\n| 2 | 1.27 |\\n| 3 | 3-0.45 |\\n| Base | 17.9 |\\n| MIN. | 1.03 |\\n| 2.5 | 2.5 |\\n| Base | 0.4 |\\n\\n## Terminal configuration\\n\\n1. Base\\n2. Emitter\\n3. Anode\\n\\n\"In the absence of confirmation by device specification sheets, data books, etc. Contact SHARP in order to obtain the latest version of the device specification sheets before using any SHARP\\'s device.\" \\n\\n\"SHARP takes no responsibility for any defects that occur in equipment using any of SHARP\\'s devices, shown in catalogs. \"', additional_kwargs={}, response_metadata={'prompt_feedback': {'block_reason': 0, 'safety_ratings': []}, 'finish_reason': 'STOP', 'safety_ratings': [{'category': 'HARM_CATEGORY_SEXUALLY_EXPLICIT', 'probability': 'NEGLIGIBLE', 'blocked': False}, {'category': 'HARM_CATEGORY_HATE_SPEECH', 'probability': 'NEGLIGIBLE', 'blocked': False}, {'category': 'HARM_CATEGORY_HARASSMENT', 'probability': 'NEGLIGIBLE', 'blocked': False}, {'category': 'HARM_CATEGORY_DANGEROUS_CONTENT', 'probability': 'NEGLIGIBLE', 'blocked': False}]}, id='run-03c4f273-6c09-48df-933d-8724a2b5e1a3-0', usage_metadata={'input_tokens': 303, 'output_tokens': 863, 'total_tokens': 1166, 'input_token_details': {'cache_read': 0}})"
      ]
     },
     "execution_count": 10,
     "metadata": {},
     "output_type": "execute_result"
    }
   ],
   "source": [
    "response"
   ]
  },
  {
   "cell_type": "code",
   "execution_count": 11,
   "metadata": {},
   "outputs": [],
   "source": [
    "extracted_content = response.content\n"
   ]
  },
  {
   "cell_type": "code",
   "execution_count": 12,
   "metadata": {},
   "outputs": [
    {
     "data": {
      "text/plain": [
       "'# SHARP GL1F20 Datasheet\\n\\n## Features\\n\\n1. IrDA1.0 compatible infrared emitting diode (Transmission rate : 24 to 115.2kbps)\\n2. Built-in infrared emitting diode circuit\\n3. Recommended use in combination with detector (**IS1U20**)\\n\\n## Applications\\n\\n1. Personal computers\\n2. Portable information terminal equipment\\n3. Printers\\n4. Word processors\\n\\nIrDA : Abbreviation of the Infrared Data Association established for standardization of infrared communication specifications\\n\\n## Absolute Maximum Ratings (Ta=25°C)\\n\\n| Parameter | Symbol | Rating | Unit |\\n|---|---|---|---|\\n| Forward current | IF | 50 | mA |\\n| *1 Peak forward current | IFM | 400 | mA |\\n| Operating temperature | Topr | -10 to +70 | °C |\\n| Storage temperature | Tstg | -20 to +85 | °C |\\n| *2 Soldering temperature | Tsol | 260 | °C |\\n\\n*1 Pulse width 78.1 µs, Duty ratio=3/16\\n*2 For MAX: 3 seconds at the position of 2 mm from the resin edge\\n\\n## Electro-optical Characteristics (Ta=25°C)\\n\\n| Parameter | Symbol | Conditions | MIN. | TYP. | MAX. | Unit |\\n|---|---|---|---|---|---|---|\\n| Driving voltage | Vcc | - | 4.75 | - | 5.25 | V |\\n| High level input voltage | VIH | - | 4.5 | - | Vcc | V |\\n| Low level input voltage | VIL | - | - | - | 0.4 | V |\\n| Peak emission wavelength | λP | IF = 20mA | 850 | 870 | 900 | nm |\\n| Radiant intensity | Ir | Vcc = 5V, RI = 7.5Ω | 40 | - | 350 | mW/sr |\\n| Light pulse width | tw | tWin = 1.63 µs, Duty ratio : 3/16 | 1.41 | 1.6 | 2.71 | µs |\\n| Light rise time | tr | φ <= 15°, *3 | - | 0.23 | 0.6 | µs |\\n| Light fall time | tf | - | - | 0.17 | 0.6 | µs |\\n| Input current | II | VIn = 4.5V | 1.0 | - | 3.0 | mA |\\n| Half intensity wavelength | Δλ | IF = 20mA | - | 40 | - | nm |\\n| Half intensity angle | Δθ | IF = 20mA | - | ± 20 | - | ° |\\n\\n*3 Direction of mechanical axis of the lens portion of the element : φ=0°\\n\\n## Outline Dimensions (Unit : mm)\\n\\n| Dimension | Value |\\n|---|---|\\n| MAX. | 0.6 |\\n| R | 1.4 |\\n| Detector center | 4.0 |\\n| 1 | 1.27 |\\n| 2 | 1.27 |\\n| 3 | 3-0.45 |\\n| Base | 17.9 |\\n| MIN. | 1.03 |\\n| 2.5 | 2.5 |\\n| Base | 0.4 |\\n\\n## Terminal configuration\\n\\n1. Base\\n2. Emitter\\n3. Anode\\n\\n\"In the absence of confirmation by device specification sheets, data books, etc. Contact SHARP in order to obtain the latest version of the device specification sheets before using any SHARP\\'s device.\" \\n\\n\"SHARP takes no responsibility for any defects that occur in equipment using any of SHARP\\'s devices, shown in catalogs. \"'"
      ]
     },
     "execution_count": 12,
     "metadata": {},
     "output_type": "execute_result"
    }
   ],
   "source": [
    "extracted_content"
   ]
  },
  {
   "cell_type": "code",
   "execution_count": 19,
   "metadata": {},
   "outputs": [
    {
     "name": "stdout",
     "output_type": "stream",
     "text": [
      "# SHARP GL1F20 Datasheet\n",
      "\n",
      "## Features\n",
      "\n",
      "1. IrDA1.0 compatible infrared emitting diode (Transmission rate : 24 to 115.2kbps)\n",
      "2. Built-in infrared emitting diode circuit\n",
      "3. Recommended use in combination with detector (**IS1U20**)\n",
      "\n",
      "## Applications\n",
      "\n",
      "1. Personal computers\n",
      "2. Portable information terminal equipment\n",
      "3. Printers\n",
      "4. Word processors\n",
      "\n",
      "IrDA : Abbreviation of the Infrared Data Association established for standardization of infrared communication specifications\n",
      "\n",
      "## Absolute Maximum Ratings (Ta=25°C)\n",
      "\n",
      "| Parameter | Symbol | Rating | Unit |\n",
      "|---|---|---|---|\n",
      "| Forward current | IF | 50 | mA |\n",
      "| *1 Peak forward current | IFM | 400 | mA |\n",
      "| Operating temperature | Topr | -10 to +70 | °C |\n",
      "| Storage temperature | Tstg | -20 to +85 | °C |\n",
      "| *2 Soldering temperature | Tsol | 260 | °C |\n",
      "\n",
      "*1 Pulse width 78.1 µs, Duty ratio=3/16\n",
      "*2 For MAX: 3 seconds at the position of 2 mm from the resin edge\n",
      "\n",
      "## Electro-optical Characteristics (Ta=25°C)\n",
      "\n",
      "| Parameter | Symbol | Conditions | MIN. | TYP. | MAX. | Unit |\n",
      "|---|---|---|---|---|---|---|\n",
      "| Driving voltage | Vcc | - | 4.75 | - | 5.25 | V |\n",
      "| High level input voltage | VIH | - | 4.5 | - | Vcc | V |\n",
      "| Low level input voltage | VIL | - | - | - | 0.4 | V |\n",
      "| Peak emission wavelength | λP | IF = 20mA | 850 | 870 | 900 | nm |\n",
      "| Radiant intensity | Ir | Vcc = 5V, RI = 7.5Ω | 40 | - | 350 | mW/sr |\n",
      "| Light pulse width | tw | tWin = 1.63 µs, Duty ratio : 3/16 | 1.41 | 1.6 | 2.71 | µs |\n",
      "| Light rise time | tr | φ <= 15°, *3 | - | 0.23 | 0.6 | µs |\n",
      "| Light fall time | tf | - | - | 0.17 | 0.6 | µs |\n",
      "| Input current | II | VIn = 4.5V | 1.0 | - | 3.0 | mA |\n",
      "| Half intensity wavelength | Δλ | IF = 20mA | - | 40 | - | nm |\n",
      "| Half intensity angle | Δθ | IF = 20mA | - | ± 20 | - | ° |\n",
      "\n",
      "*3 Direction of mechanical axis of the lens portion of the element : φ=0°\n",
      "\n",
      "## Outline Dimensions (Unit : mm)\n",
      "\n",
      "| Dimension | Value |\n",
      "|---|---|\n",
      "| MAX. | 0.6 |\n",
      "| R | 1.4 |\n",
      "| Detector center | 4.0 |\n",
      "| 1 | 1.27 |\n",
      "| 2 | 1.27 |\n",
      "| 3 | 3-0.45 |\n",
      "| Base | 17.9 |\n",
      "| MIN. | 1.03 |\n",
      "| 2.5 | 2.5 |\n",
      "| Base | 0.4 |\n",
      "\n",
      "## Terminal configuration\n",
      "\n",
      "1. Base\n",
      "2. Emitter\n",
      "3. Anode\n",
      "\n",
      "\"In the absence of confirmation by device specification sheets, data books, etc. Contact SHARP in order to obtain the latest version of the device specification sheets before using any SHARP's device.\" \n",
      "\n",
      "\"SHARP takes no responsibility for any defects that occur in equipment using any of SHARP's devices, shown in catalogs. \"\n"
     ]
    }
   ],
   "source": [
    "def format_markdown(content):\n",
    "    # Replace '\\n' with actual new line characters\n",
    "    formatted_content = content.replace('\\\\n', '\\n')\n",
    "    return formatted_content\n",
    "\n",
    "# Example usage\n",
    "extracted_content = '# SHARP GL1F20 Datasheet\\n\\n## Features\\n\\n1. IrDA1.0 compatible infrared emitting diode (Transmission rate : 24 to 115.2kbps)\\n2. Built-in infrared emitting diode circuit\\n3. Recommended use in combination with detector (**IS1U20**)\\n\\n## Applications\\n\\n1. Personal computers\\n2. Portable information terminal equipment\\n3. Printers\\n4. Word processors\\n\\nIrDA : Abbreviation of the Infrared Data Association established for standardization of infrared communication specifications\\n\\n## Absolute Maximum Ratings (Ta=25°C)\\n\\n| Parameter | Symbol | Rating | Unit |\\n|---|---|---|---|\\n| Forward current | IF | 50 | mA |\\n| *1 Peak forward current | IFM | 400 | mA |\\n| Operating temperature | Topr | -10 to +70 | °C |\\n| Storage temperature | Tstg | -20 to +85 | °C |\\n| *2 Soldering temperature | Tsol | 260 | °C |\\n\\n*1 Pulse width 78.1 µs, Duty ratio=3/16\\n*2 For MAX: 3 seconds at the position of 2 mm from the resin edge\\n\\n## Electro-optical Characteristics (Ta=25°C)\\n\\n| Parameter | Symbol | Conditions | MIN. | TYP. | MAX. | Unit |\\n|---|---|---|---|---|---|---|\\n| Driving voltage | Vcc | - | 4.75 | - | 5.25 | V |\\n| High level input voltage | VIH | - | 4.5 | - | Vcc | V |\\n| Low level input voltage | VIL | - | - | - | 0.4 | V |\\n| Peak emission wavelength | λP | IF = 20mA | 850 | 870 | 900 | nm |\\n| Radiant intensity | Ir | Vcc = 5V, RI = 7.5Ω | 40 | - | 350 | mW/sr |\\n| Light pulse width | tw | tWin = 1.63 µs, Duty ratio : 3/16 | 1.41 | 1.6 | 2.71 | µs |\\n| Light rise time | tr | φ <= 15°, *3 | - | 0.23 | 0.6 | µs |\\n| Light fall time | tf | - | - | 0.17 | 0.6 | µs |\\n| Input current | II | VIn = 4.5V | 1.0 | - | 3.0 | mA |\\n| Half intensity wavelength | Δλ | IF = 20mA | - | 40 | - | nm |\\n| Half intensity angle | Δθ | IF = 20mA | - | ± 20 | - | ° |\\n\\n*3 Direction of mechanical axis of the lens portion of the element : φ=0°\\n\\n## Outline Dimensions (Unit : mm)\\n\\n| Dimension | Value |\\n|---|---|\\n| MAX. | 0.6 |\\n| R | 1.4 |\\n| Detector center | 4.0 |\\n| 1 | 1.27 |\\n| 2 | 1.27 |\\n| 3 | 3-0.45 |\\n| Base | 17.9 |\\n| MIN. | 1.03 |\\n| 2.5 | 2.5 |\\n| Base | 0.4 |\\n\\n## Terminal configuration\\n\\n1. Base\\n2. Emitter\\n3. Anode\\n\\n\"In the absence of confirmation by device specification sheets, data books, etc. Contact SHARP in order to obtain the latest version of the device specification sheets before using any SHARP\\'s device.\" \\n\\n\"SHARP takes no responsibility for any defects that occur in equipment using any of SHARP\\'s devices, shown in catalogs. \"'\n",
    "\n",
    "formatted_output = format_markdown(extracted_content)\n",
    "print(formatted_output)\n"
   ]
  },
  {
   "cell_type": "markdown",
   "metadata": {},
   "source": [
    "# SHARP GL1F20 Datasheet\n",
    "\n",
    "## Features\n",
    "\n",
    "1. IrDA1.0 compatible infrared emitting diode (Transmission rate : 24 to 115.2kbps)\n",
    "2. Built-in infrared emitting diode circuit\n",
    "3. Recommended use in combination with detector (**IS1U20**)\n",
    "\n",
    "## Applications\n",
    "\n",
    "1. Personal computers\n",
    "2. Portable information terminal equipment\n",
    "3. Printers\n",
    "4. Word processors\n",
    "\n",
    "IrDA : Abbreviation of the Infrared Data Association established for standardization of infrared communication specifications\n",
    "\n",
    "## Absolute Maximum Ratings (Ta=25°C)\n",
    "\n",
    "| Parameter | Symbol | Rating | Unit |\n",
    "|---|---|---|---|\n",
    "| Forward current | IF | 50 | mA |\n",
    "| *1 Peak forward current | IFM | 400 | mA |\n",
    "| Operating temperature | Topr | -10 to +70 | °C |\n",
    "| Storage temperature | Tstg | -20 to +85 | °C |\n",
    "| *2 Soldering temperature | Tsol | 260 | °C |\n",
    "\n",
    "*1 Pulse width 78.1 µs, Duty ratio=3/16\n",
    "*2 For MAX: 3 seconds at the position of 2 mm from the resin edge\n",
    "\n",
    "## Electro-optical Characteristics (Ta=25°C)\n",
    "\n",
    "| Parameter | Symbol | Conditions | MIN. | TYP. | MAX. | Unit |\n",
    "|---|---|---|---|---|---|---|\n",
    "| Driving voltage | Vcc | - | 4.75 | - | 5.25 | V |\n",
    "| High level input voltage | VIH | - | 4.5 | - | Vcc | V |\n",
    "| Low level input voltage | VIL | - | - | - | 0.4 | V |\n",
    "| Peak emission wavelength | λP | IF = 20mA | 850 | 870 | 900 | nm |\n",
    "| Radiant intensity | Ir | Vcc = 5V, RI = 7.5Ω | 40 | - | 350 | mW/sr |\n",
    "| Light pulse width | tw | tWin = 1.63 µs, Duty ratio : 3/16 | 1.41 | 1.6 | 2.71 | µs |\n",
    "| Light rise time | tr | φ <= 15°, *3 | - | 0.23 | 0.6 | µs |\n",
    "| Light fall time | tf | - | - | 0.17 | 0.6 | µs |\n",
    "| Input current | II | VIn = 4.5V | 1.0 | - | 3.0 | mA |\n",
    "| Half intensity wavelength | Δλ | IF = 20mA | - | 40 | - | nm |\n",
    "| Half intensity angle | Δθ | IF = 20mA | - | ± 20 | - | ° |\n",
    "\n",
    "*3 Direction of mechanical axis of the lens portion of the element : φ=0°\n",
    "\n",
    "## Outline Dimensions (Unit : mm)\n",
    "\n",
    "| Dimension | Value |\n",
    "|---|---|\n",
    "| MAX. | 0.6 |\n",
    "| R | 1.4 |\n",
    "| Detector center | 4.0 |\n",
    "| 1 | 1.27 |\n",
    "| 2 | 1.27 |\n",
    "| 3 | 3-0.45 |\n",
    "| Base | 17.9 |\n",
    "| MIN. | 1.03 |\n",
    "| 2.5 | 2.5 |\n",
    "| Base | 0.4 |\n",
    "\n",
    "## Terminal configuration\n",
    "\n",
    "1. Base\n",
    "2. Emitter\n",
    "3. Anode\n",
    "\n",
    "\"In the absence of confirmation by device specification sheets, data books, etc. Contact SHARP in order to obtain the latest version of the device specification sheets before using any SHARP's device.\" \n",
    "\n",
    "\"SHARP takes no responsibility for any defects that occur in equipment using any of SHARP's devices, shown in catalogs. \""
   ]
  },
  {
   "cell_type": "code",
   "execution_count": null,
   "metadata": {},
   "outputs": [],
   "source": []
  },
  {
   "cell_type": "code",
   "execution_count": null,
   "metadata": {},
   "outputs": [],
   "source": []
  },
  {
   "cell_type": "code",
   "execution_count": null,
   "metadata": {},
   "outputs": [],
   "source": []
  }
 ],
 "metadata": {
  "kernelspec": {
   "display_name": "Python 3",
   "language": "python",
   "name": "python3"
  },
  "language_info": {
   "codemirror_mode": {
    "name": "ipython",
    "version": 3
   },
   "file_extension": ".py",
   "mimetype": "text/x-python",
   "name": "python",
   "nbconvert_exporter": "python",
   "pygments_lexer": "ipython3",
   "version": "3.11.0"
  }
 },
 "nbformat": 4,
 "nbformat_minor": 2
}
