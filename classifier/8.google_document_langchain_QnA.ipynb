{
 "cells": [
  {
   "cell_type": "code",
   "execution_count": 1,
   "metadata": {},
   "outputs": [
    {
     "data": {
      "text/plain": [
       "True"
      ]
     },
     "execution_count": 1,
     "metadata": {},
     "output_type": "execute_result"
    }
   ],
   "source": [
    "import os\n",
    "from dotenv import load_dotenv\n",
    "load_dotenv()"
   ]
  },
  {
   "cell_type": "code",
   "execution_count": 2,
   "metadata": {},
   "outputs": [],
   "source": [
    "GCS_OUTPUT_PATH = \"gs://doc_parser12345/\"\n",
    "# PROCESSOR_NAME = \"https://us-documentai.googleapis.com/v1/projects/712357922075/locations/us/processors/5d98407fb8df954c:process\"\n",
    "PROCESSOR_NAME = \"projects/712357922075/locations/us/processors/5d98407fb8df954c\"\n",
    "\n",
    "os.environ['GOOGLE_APPLICATION_CREDENTIALS'] = './docextraction-440803-2193a2f4556f.json'\n"
   ]
  },
  {
   "cell_type": "code",
   "execution_count": 3,
   "metadata": {},
   "outputs": [],
   "source": [
    "from langchain_core.document_loaders.blob_loaders import Blob\n",
    "from langchain_google_community import DocAIParser"
   ]
  },
  {
   "cell_type": "code",
   "execution_count": 4,
   "metadata": {},
   "outputs": [],
   "source": [
    "parser = DocAIParser(\n",
    "    location=\"us\", processor_name=PROCESSOR_NAME, gcs_output_path=GCS_OUTPUT_PATH\n",
    ")"
   ]
  },
  {
   "cell_type": "code",
   "execution_count": 5,
   "metadata": {},
   "outputs": [],
   "source": [
    "blob = Blob(\n",
    "    path=\"gs://doc_parser12345/document-001-115484.out.000.pdf\"\n",
    ")"
   ]
  },
  {
   "cell_type": "code",
   "execution_count": 6,
   "metadata": {},
   "outputs": [
    {
     "name": "stdout",
     "output_type": "stream",
     "text": [
      "1\n"
     ]
    }
   ],
   "source": [
    "docs = list(parser.lazy_parse(blob))\n",
    "print(len(docs))"
   ]
  },
  {
   "cell_type": "code",
   "execution_count": 7,
   "metadata": {},
   "outputs": [
    {
     "name": "stdout",
     "output_type": "stream",
     "text": [
      "1\n"
     ]
    }
   ],
   "source": [
    "print(len(docs))"
   ]
  },
  {
   "cell_type": "code",
   "execution_count": 8,
   "metadata": {},
   "outputs": [
    {
     "data": {
      "text/plain": [
       "[Document(metadata={'page': 1, 'source': 'gs://doc_parser12345/document-001-115484.out.000.pdf'}, page_content='SHARP\\nGL1F20\\nGL1F20\\nFeatures\\n1. IrDA1.0 compatible infrared emitting diode\\n(Transmission rate: 2.4 to 115.2kbps)\\n2. Built-in infrared emitting diode circuit\\n3. Recommended use in combination with detector (IS1U20)\\nInfrared Communication\\n(IrDA1.0 Compatible)\\nInfraredEmitting Diode\\n| Outline Dimensions\\nMAX. 0.6\\n5.6\\n(Unit: mm)\\nR 1.4\\nTransparent resin\\nDetector center\\nApplications\\n1. Personal computers\\n2. Portable information terminal equipment\\n3. Printers\\n4. Word processors\\nIrDA Abbreviation of the Infrared Data Association established\\nfor standardization of infrared communication specifications\\n3-0.45\\n1.27\\nAbsolute Maximum Ratings\\nParameter\\nForward current\\n*1 Peak forward current\\nOperating temperature\\nStorage temperature\\n#2\\nSoldering temperature\\nA\\n17.9\\n1.0\\n1.27\\nMIN 0.3\\n(Ta=25°C)\\nSymbol Rating\\nUnit\\nIF\\n50\\nmA\\nTerminal configuration\\n1 Base\\nIFM\\n400\\nmA\\n12:\\nEmitter\\nTopr\\n10 to 70\\n°C\\n③3 Anode\\nIste\\n20 to + 85\\n°C\\nTsol\\n260\\n°C\\n*1 Pulse width 78.1 u s. Duty ratio=3/16\\n*2 For MAX. 3 seconds at the position of 2 mm from the resin edge\\nElectro-optical Characteristics\\nBase\\n0.4\\nهه\\n(Ta=25 °C)\\nParameter\\nSymbol\\nConditions\\nMIN.\\nTYP.\\nMAX.\\nUnit\\nDriving voltage\\nVcc\\n4.75\\n5.25\\nV\\nHigh level input voltage\\nVIII\\n4.5\\nVoc\\nV\\nLow level input voltage\\nVII.\\n0.4\\nV\\nPeak emission wavelength\\nAp\\nIF = 20mA\\n850\\n870\\n900\\nnm\\nRadiant intensity\\nJE\\nVcc 5V,RL= 7.592\\n40\\n350\\nmW/sr\\nLight pulse width\\ntw\\nVin = 4.5V\\n1.41\\n1.6\\n2.71\\nμε\\nLight rise time\\ntr\\ntwin 1.63 us,Duty ratio : 3/16\\n0.23\\n0.6\\nμε\\nLight fall time\\n<=15°,*3\\nlf\\n0.17\\n0.6\\nμε\\nInput current\\nIIII\\nVin = 4.5V\\n1.0\\n3.0\\nmA\\nHalf intensity wavelength\\nΔλ\\nIr = 20mA\\n40\\nnm\\nHalf intensity angle\\nΔΕ\\nIF = 20mA\\n-\\n± 20\\n*3 Direction of mechanical axis of the lens portion of the element: =0°\\nIn the absence of confirmation by device specification sheets, SHARP takes no responsibility for any defects that occur in equipment using any of SHARP\\'s devices, shown in catalogs,\\ndata books, etc. Contact SHARP in order to obtain the latest version of the device specification sheets before using any SHARP\\'s device.\"\\n')]"
      ]
     },
     "execution_count": 8,
     "metadata": {},
     "output_type": "execute_result"
    }
   ],
   "source": [
    "docs"
   ]
  },
  {
   "cell_type": "code",
   "execution_count": 9,
   "metadata": {},
   "outputs": [
    {
     "data": {
      "text/plain": [
       "langchain_core.documents.base.Document"
      ]
     },
     "execution_count": 9,
     "metadata": {},
     "output_type": "execute_result"
    }
   ],
   "source": [
    "type(docs[0])"
   ]
  },
  {
   "cell_type": "code",
   "execution_count": 10,
   "metadata": {},
   "outputs": [
    {
     "name": "stderr",
     "output_type": "stream",
     "text": [
      "c:\\Code\\Github\\document_classifier\\venv\\lib\\site-packages\\tqdm\\auto.py:21: TqdmWarning: IProgress not found. Please update jupyter and ipywidgets. See https://ipywidgets.readthedocs.io/en/stable/user_install.html\n",
      "  from .autonotebook import tqdm as notebook_tqdm\n"
     ]
    }
   ],
   "source": [
    "from langchain_google_genai import GoogleGenerativeAIEmbeddings\n",
    "\n",
    "embeddings = GoogleGenerativeAIEmbeddings(model=\"models/embedding-001\")"
   ]
  },
  {
   "cell_type": "code",
   "execution_count": 11,
   "metadata": {},
   "outputs": [],
   "source": [
    "from langchain_chroma import Chroma\n",
    "\n",
    "vectorstore = Chroma.from_documents(documents=docs, embedding=GoogleGenerativeAIEmbeddings(model=\"models/embedding-001\"))\n"
   ]
  },
  {
   "cell_type": "code",
   "execution_count": 26,
   "metadata": {},
   "outputs": [
    {
     "name": "stderr",
     "output_type": "stream",
     "text": [
      "c:\\Code\\Github\\document_classifier\\venv\\lib\\site-packages\\langsmith\\client.py:234: LangSmithMissingAPIKeyWarning: API key must be provided when using hosted LangSmith API\n",
      "  warnings.warn(\n"
     ]
    }
   ],
   "source": [
    "from langchain import hub\n",
    "\n",
    "# Retrieve and generate using the relevant snippets of the blog.\n",
    "retriever = vectorstore.as_retriever()\n",
    "prompt = hub.pull(\"rlm/rag-prompt\")\n",
    "\n",
    "\n",
    "def format_docs(docs):\n",
    "    return \"\\n\\n\".join(doc.page_content for doc in docs)"
   ]
  },
  {
   "cell_type": "code",
   "execution_count": 30,
   "metadata": {},
   "outputs": [],
   "source": [
    "from langchain_google_genai import ChatGoogleGenerativeAI\n",
    "\n",
    "model = ChatGoogleGenerativeAI(model=\"gemini-1.5-flash\")\n"
   ]
  },
  {
   "cell_type": "code",
   "execution_count": 31,
   "metadata": {},
   "outputs": [],
   "source": [
    "from typing import Optional\n",
    "\n",
    "from pydantic import BaseModel, Field\n",
    "\n",
    "class ElectricalSpecifications(BaseModel):\n",
    "    forward_current: float = Field(..., description=\"Forward current in amperes.\")\n",
    "    peak_forward_current: float = Field(..., description=\"Peak forward current in amperes.\")\n",
    "    operating_temperature: float = Field(..., description=\"Operating temperature in degrees Celsius.\")\n",
    "    storage_temperature: float = Field(..., description=\"Storage temperature in degrees Celsius.\")\n",
    "    soldering_temperature: float = Field(..., description=\"Soldering temperature in degrees Celsius.\")"
   ]
  },
  {
   "cell_type": "code",
   "execution_count": 32,
   "metadata": {},
   "outputs": [],
   "source": [
    "structured_llm = model.with_structured_output(ElectricalSpecifications)\n"
   ]
  },
  {
   "cell_type": "code",
   "execution_count": 33,
   "metadata": {},
   "outputs": [],
   "source": [
    "from langchain_core.runnables import RunnablePassthrough\n",
    "from langchain_core.output_parsers import StrOutputParser\n",
    "\n",
    "rag_chain = (\n",
    "    {\"context\": retriever | format_docs, \"question\": RunnablePassthrough()}\n",
    "    | prompt\n",
    "    | structured_llm\n",
    ")"
   ]
  },
  {
   "cell_type": "code",
   "execution_count": 34,
   "metadata": {},
   "outputs": [
    {
     "name": "stderr",
     "output_type": "stream",
     "text": [
      "Number of requested results 4 is greater than number of elements in index 1, updating n_results = 1\n"
     ]
    }
   ],
   "source": [
    "response = rag_chain.invoke(\"Extract the forward current  peak forward current, operating temperature, storage temperature, soldering temperature?\")"
   ]
  },
  {
   "cell_type": "code",
   "execution_count": 35,
   "metadata": {},
   "outputs": [
    {
     "data": {
      "text/plain": [
       "ElectricalSpecifications(forward_current=50.0, peak_forward_current=400.0, operating_temperature=70.0, storage_temperature=85.0, soldering_temperature=260.0)"
      ]
     },
     "execution_count": 35,
     "metadata": {},
     "output_type": "execute_result"
    }
   ],
   "source": [
    "response"
   ]
  },
  {
   "cell_type": "code",
   "execution_count": 42,
   "metadata": {},
   "outputs": [
    {
     "name": "stderr",
     "output_type": "stream",
     "text": [
      "Number of requested results 4 is greater than number of elements in index 1, updating n_results = 1\n"
     ]
    }
   ],
   "source": [
    "response = rag_chain.invoke(\"give me the rating info?\")"
   ]
  },
  {
   "cell_type": "code",
   "execution_count": null,
   "metadata": {},
   "outputs": [
    {
     "data": {
      "text/plain": [
       "ElectricalSpecifications(forward_current=50.0, peak_forward_current=400.0, operating_temperature=70.0, storage_temperature=85.0, soldering_temperature=260.0)"
      ]
     },
     "execution_count": 43,
     "metadata": {},
     "output_type": "execute_result"
    }
   ],
   "source": [
    "response."
   ]
  },
  {
   "cell_type": "code",
   "execution_count": 44,
   "metadata": {},
   "outputs": [
    {
     "name": "stderr",
     "output_type": "stream",
     "text": [
      "Number of requested results 4 is greater than number of elements in index 1, updating n_results = 1\n"
     ]
    },
    {
     "data": {
      "text/plain": [
       "[Document(metadata={'page': 1, 'source': 'gs://doc_parser12345/document-001-115484.out.000.pdf'}, page_content='SHARP\\nGL1F20\\nGL1F20\\nFeatures\\n1. IrDA1.0 compatible infrared emitting diode\\n(Transmission rate: 2.4 to 115.2kbps)\\n2. Built-in infrared emitting diode circuit\\n3. Recommended use in combination with detector (IS1U20)\\nInfrared Communication\\n(IrDA1.0 Compatible)\\nInfraredEmitting Diode\\n| Outline Dimensions\\nMAX. 0.6\\n5.6\\n(Unit: mm)\\nR 1.4\\nTransparent resin\\nDetector center\\nApplications\\n1. Personal computers\\n2. Portable information terminal equipment\\n3. Printers\\n4. Word processors\\nIrDA Abbreviation of the Infrared Data Association established\\nfor standardization of infrared communication specifications\\n3-0.45\\n1.27\\nAbsolute Maximum Ratings\\nParameter\\nForward current\\n*1 Peak forward current\\nOperating temperature\\nStorage temperature\\n#2\\nSoldering temperature\\nA\\n17.9\\n1.0\\n1.27\\nMIN 0.3\\n(Ta=25°C)\\nSymbol Rating\\nUnit\\nIF\\n50\\nmA\\nTerminal configuration\\n1 Base\\nIFM\\n400\\nmA\\n12:\\nEmitter\\nTopr\\n10 to 70\\n°C\\n③3 Anode\\nIste\\n20 to + 85\\n°C\\nTsol\\n260\\n°C\\n*1 Pulse width 78.1 u s. Duty ratio=3/16\\n*2 For MAX. 3 seconds at the position of 2 mm from the resin edge\\nElectro-optical Characteristics\\nBase\\n0.4\\nهه\\n(Ta=25 °C)\\nParameter\\nSymbol\\nConditions\\nMIN.\\nTYP.\\nMAX.\\nUnit\\nDriving voltage\\nVcc\\n4.75\\n5.25\\nV\\nHigh level input voltage\\nVIII\\n4.5\\nVoc\\nV\\nLow level input voltage\\nVII.\\n0.4\\nV\\nPeak emission wavelength\\nAp\\nIF = 20mA\\n850\\n870\\n900\\nnm\\nRadiant intensity\\nJE\\nVcc 5V,RL= 7.592\\n40\\n350\\nmW/sr\\nLight pulse width\\ntw\\nVin = 4.5V\\n1.41\\n1.6\\n2.71\\nμε\\nLight rise time\\ntr\\ntwin 1.63 us,Duty ratio : 3/16\\n0.23\\n0.6\\nμε\\nLight fall time\\n<=15°,*3\\nlf\\n0.17\\n0.6\\nμε\\nInput current\\nIIII\\nVin = 4.5V\\n1.0\\n3.0\\nmA\\nHalf intensity wavelength\\nΔλ\\nIr = 20mA\\n40\\nnm\\nHalf intensity angle\\nΔΕ\\nIF = 20mA\\n-\\n± 20\\n*3 Direction of mechanical axis of the lens portion of the element: =0°\\nIn the absence of confirmation by device specification sheets, SHARP takes no responsibility for any defects that occur in equipment using any of SHARP\\'s devices, shown in catalogs,\\ndata books, etc. Contact SHARP in order to obtain the latest version of the device specification sheets before using any SHARP\\'s device.\"\\n')]"
      ]
     },
     "execution_count": 44,
     "metadata": {},
     "output_type": "execute_result"
    }
   ],
   "source": [
    "retriever.invoke(\"Extract the forward current  peak forward current, operating temperature, storage temperature, soldering temperature?\")"
   ]
  },
  {
   "cell_type": "code",
   "execution_count": null,
   "metadata": {},
   "outputs": [],
   "source": []
  },
  {
   "cell_type": "code",
   "execution_count": null,
   "metadata": {},
   "outputs": [],
   "source": []
  }
 ],
 "metadata": {
  "kernelspec": {
   "display_name": "Python 3",
   "language": "python",
   "name": "python3"
  },
  "language_info": {
   "codemirror_mode": {
    "name": "ipython",
    "version": 3
   },
   "file_extension": ".py",
   "mimetype": "text/x-python",
   "name": "python",
   "nbconvert_exporter": "python",
   "pygments_lexer": "ipython3",
   "version": "3.10.0"
  }
 },
 "nbformat": 4,
 "nbformat_minor": 2
}
